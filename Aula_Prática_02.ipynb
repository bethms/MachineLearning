{
  "nbformat": 4,
  "nbformat_minor": 0,
  "metadata": {
    "colab": {
      "name": "Aula Prática 02.ipynb",
      "provenance": [],
      "collapsed_sections": [],
      "include_colab_link": true
    },
    "kernelspec": {
      "name": "python3",
      "display_name": "Python 3"
    }
  },
  "cells": [
    {
      "cell_type": "markdown",
      "metadata": {
        "id": "view-in-github",
        "colab_type": "text"
      },
      "source": [
        "<a href=\"https://colab.research.google.com/github/bethms/MachineLearning/blob/main/Aula_Pr%C3%A1tica_02.ipynb\" target=\"_parent\"><img src=\"https://colab.research.google.com/assets/colab-badge.svg\" alt=\"Open In Colab\"/></a>"
      ]
    },
    {
      "cell_type": "markdown",
      "metadata": {
        "id": "1xTx5jBQxLYn"
      },
      "source": [
        "### *Integrantes:*\r\n",
        "#### Aline Galantine\r\n",
        "#### Elizabeth Machado Santos\r\n",
        "\r\n"
      ]
    },
    {
      "cell_type": "code",
      "metadata": {
        "id": "3CkYWcFPxG42"
      },
      "source": [
        "import numpy as np\r\n",
        "import pandas as pd\r\n",
        "import matplotlib.pyplot as plt\r\n",
        "import seaborn as sns\r\n",
        "\r\n",
        "from sklearn.model_selection import train_test_split\r\n",
        "from sklearn import preprocessing\r\n",
        "from sklearn.linear_model import LinearRegression\r\n",
        "\r\n",
        "np.set_printoptions(threshold=None, precision=2)\r\n",
        "pd.set_option('display.max_columns', 500)\r\n",
        "pd.set_option('display.max_rows', 500)\r\n",
        "pd.set_option('precision', 2)"
      ],
      "execution_count": null,
      "outputs": []
    },
    {
      "cell_type": "markdown",
      "metadata": {
        "id": "jZq-vwpDPWd6"
      },
      "source": [
        "## Leitura do arquivo, exibição do head ##"
      ]
    },
    {
      "cell_type": "code",
      "metadata": {
        "colab": {
          "base_uri": "https://localhost:8080/",
          "height": 221
        },
        "id": "KSqztbSYxq4-",
        "outputId": "e8953718-7294-4bd7-8f6d-6a10d3c30a43"
      },
      "source": [
        "\r\n",
        "auto_df = pd.read_excel(\"https://github.com/bethms/MachineLearning/blob/main/automoveis.xlsx?raw=true\")\r\n",
        "\r\n",
        "auto_df.head()"
      ],
      "execution_count": null,
      "outputs": [
        {
          "output_type": "execute_result",
          "data": {
            "text/html": [
              "<div>\n",
              "<style scoped>\n",
              "    .dataframe tbody tr th:only-of-type {\n",
              "        vertical-align: middle;\n",
              "    }\n",
              "\n",
              "    .dataframe tbody tr th {\n",
              "        vertical-align: top;\n",
              "    }\n",
              "\n",
              "    .dataframe thead th {\n",
              "        text-align: right;\n",
              "    }\n",
              "</style>\n",
              "<table border=\"1\" class=\"dataframe\">\n",
              "  <thead>\n",
              "    <tr style=\"text-align: right;\">\n",
              "      <th></th>\n",
              "      <th>Fabricante</th>\n",
              "      <th>Combustível</th>\n",
              "      <th>Portas</th>\n",
              "      <th>Estilo Chassis</th>\n",
              "      <th>Tração</th>\n",
              "      <th>Comprimento</th>\n",
              "      <th>Largura</th>\n",
              "      <th>Altura</th>\n",
              "      <th>Tipo de motor</th>\n",
              "      <th>Número de cilindros</th>\n",
              "      <th>Tamanho do motor</th>\n",
              "      <th>Tipo de injeção</th>\n",
              "      <th>Potência (HP)</th>\n",
              "      <th>Pico RPM</th>\n",
              "      <th>Preço</th>\n",
              "    </tr>\n",
              "  </thead>\n",
              "  <tbody>\n",
              "    <tr>\n",
              "      <th>0</th>\n",
              "      <td>alfa-romeo</td>\n",
              "      <td>gas</td>\n",
              "      <td>2.0</td>\n",
              "      <td>conversível</td>\n",
              "      <td>traseira</td>\n",
              "      <td>168,80</td>\n",
              "      <td>64,10</td>\n",
              "      <td>48,80</td>\n",
              "      <td>dohc</td>\n",
              "      <td>4</td>\n",
              "      <td>130,00</td>\n",
              "      <td>mpfi</td>\n",
              "      <td>111,00</td>\n",
              "      <td>5000,00</td>\n",
              "      <td>13495,00</td>\n",
              "    </tr>\n",
              "    <tr>\n",
              "      <th>1</th>\n",
              "      <td>alfa-romeo</td>\n",
              "      <td>gas</td>\n",
              "      <td>2.0</td>\n",
              "      <td>conversível</td>\n",
              "      <td>traseira</td>\n",
              "      <td>168,80</td>\n",
              "      <td>64,10</td>\n",
              "      <td>48,80</td>\n",
              "      <td>dohc</td>\n",
              "      <td>4</td>\n",
              "      <td>130,00</td>\n",
              "      <td>mpfi</td>\n",
              "      <td>111,00</td>\n",
              "      <td>5000,00</td>\n",
              "      <td>16500,00</td>\n",
              "    </tr>\n",
              "    <tr>\n",
              "      <th>2</th>\n",
              "      <td>alfa-romeo</td>\n",
              "      <td>gas</td>\n",
              "      <td>2.0</td>\n",
              "      <td>hatch</td>\n",
              "      <td>traseira</td>\n",
              "      <td>171,20</td>\n",
              "      <td>65,50</td>\n",
              "      <td>52,40</td>\n",
              "      <td>ohcv</td>\n",
              "      <td>6</td>\n",
              "      <td>152,00</td>\n",
              "      <td>mpfi</td>\n",
              "      <td>154,00</td>\n",
              "      <td>5000,00</td>\n",
              "      <td>16500,00</td>\n",
              "    </tr>\n",
              "    <tr>\n",
              "      <th>3</th>\n",
              "      <td>audi</td>\n",
              "      <td>gas</td>\n",
              "      <td>4.0</td>\n",
              "      <td>sedan</td>\n",
              "      <td>dianteira</td>\n",
              "      <td>176,60</td>\n",
              "      <td>66,20</td>\n",
              "      <td>54,30</td>\n",
              "      <td>ohc</td>\n",
              "      <td>4</td>\n",
              "      <td>109,00</td>\n",
              "      <td>mpfi</td>\n",
              "      <td>102,00</td>\n",
              "      <td>5500,00</td>\n",
              "      <td>13950,00</td>\n",
              "    </tr>\n",
              "    <tr>\n",
              "      <th>4</th>\n",
              "      <td>audi</td>\n",
              "      <td>gas</td>\n",
              "      <td>4.0</td>\n",
              "      <td>sedan</td>\n",
              "      <td>4x4</td>\n",
              "      <td>176,60</td>\n",
              "      <td>66,40</td>\n",
              "      <td>54,30</td>\n",
              "      <td>ohc</td>\n",
              "      <td>5</td>\n",
              "      <td>136,00</td>\n",
              "      <td>mpfi</td>\n",
              "      <td>115,00</td>\n",
              "      <td>5500,00</td>\n",
              "      <td>17450,00</td>\n",
              "    </tr>\n",
              "  </tbody>\n",
              "</table>\n",
              "</div>"
            ],
            "text/plain": [
              "   Fabricante Combustível  Portas Estilo Chassis     Tração Comprimento  \\\n",
              "0  alfa-romeo         gas     2.0    conversível   traseira      168,80   \n",
              "1  alfa-romeo         gas     2.0    conversível   traseira      168,80   \n",
              "2  alfa-romeo         gas     2.0          hatch   traseira      171,20   \n",
              "3        audi         gas     4.0          sedan  dianteira      176,60   \n",
              "4        audi         gas     4.0          sedan        4x4      176,60   \n",
              "\n",
              "  Largura Altura Tipo de motor Número de cilindros Tamanho do motor  \\\n",
              "0   64,10  48,80          dohc                   4           130,00   \n",
              "1   64,10  48,80          dohc                   4           130,00   \n",
              "2   65,50  52,40          ohcv                   6           152,00   \n",
              "3   66,20  54,30           ohc                   4           109,00   \n",
              "4   66,40  54,30           ohc                   5           136,00   \n",
              "\n",
              "  Tipo de injeção Potência (HP) Pico RPM     Preço  \n",
              "0            mpfi        111,00  5000,00  13495,00  \n",
              "1            mpfi        111,00  5000,00  16500,00  \n",
              "2            mpfi        154,00  5000,00  16500,00  \n",
              "3            mpfi        102,00  5500,00  13950,00  \n",
              "4            mpfi        115,00  5500,00  17450,00  "
            ]
          },
          "metadata": {
            "tags": []
          },
          "execution_count": 2
        }
      ]
    },
    {
      "cell_type": "markdown",
      "metadata": {
        "id": "Svw_0mO0PZs5"
      },
      "source": [
        "## PREPARAÇÃO DOS DADOS ##"
      ]
    },
    {
      "cell_type": "code",
      "metadata": {
        "colab": {
          "base_uri": "https://localhost:8080/"
        },
        "id": "B34s4i8jSyWl",
        "outputId": "87b75bfc-279b-47bf-9bc5-24eafb35522e"
      },
      "source": [
        "### Exibindo as informações do data frame ##\r\n",
        "print(\"\\nTipos dos dados:\\n{0}\\n\".format(auto_df.info()))"
      ],
      "execution_count": null,
      "outputs": [
        {
          "output_type": "stream",
          "text": [
            "<class 'pandas.core.frame.DataFrame'>\n",
            "RangeIndex: 205 entries, 0 to 204\n",
            "Data columns (total 15 columns):\n",
            " #   Column               Non-Null Count  Dtype  \n",
            "---  ------               --------------  -----  \n",
            " 0   Fabricante           203 non-null    object \n",
            " 1   Combustível          200 non-null    object \n",
            " 2   Portas               203 non-null    float64\n",
            " 3   Estilo Chassis       205 non-null    object \n",
            " 4   Tração               205 non-null    object \n",
            " 5   Comprimento          205 non-null    object \n",
            " 6   Largura              205 non-null    object \n",
            " 7   Altura               205 non-null    object \n",
            " 8   Tipo de motor        205 non-null    object \n",
            " 9   Número de cilindros  205 non-null    object \n",
            " 10  Tamanho do motor     205 non-null    object \n",
            " 11  Tipo de injeção      205 non-null    object \n",
            " 12  Potência (HP)        205 non-null    object \n",
            " 13  Pico RPM             205 non-null    object \n",
            " 14  Preço                205 non-null    object \n",
            "dtypes: float64(1), object(14)\n",
            "memory usage: 24.1+ KB\n",
            "\n",
            "Tipos dos dados:\n",
            "None\n",
            "\n"
          ],
          "name": "stdout"
        }
      ]
    },
    {
      "cell_type": "code",
      "metadata": {
        "colab": {
          "base_uri": "https://localhost:8080/"
        },
        "id": "MnC8aToBPTuK",
        "outputId": "a53b6e22-318b-4c25-c3d2-b48df4f2420a"
      },
      "source": [
        "# Exibe apenas os campos numéricos:\r\n",
        "\r\n",
        "print(auto_df.describe())"
      ],
      "execution_count": null,
      "outputs": [
        {
          "output_type": "stream",
          "text": [
            "       Portas\n",
            "count  203.00\n",
            "mean     3.12\n",
            "std      0.99\n",
            "min      2.00\n",
            "25%      2.00\n",
            "50%      4.00\n",
            "75%      4.00\n",
            "max      4.00\n"
          ],
          "name": "stdout"
        }
      ]
    },
    {
      "cell_type": "code",
      "metadata": {
        "id": "ownr18Zk2CGh"
      },
      "source": [
        " ## Convertendo colunas numéricas:\r\n",
        "\r\n",
        "auto_df['Comprimento'] = auto_df['Comprimento'].apply(lambda x: x.replace(',', '.') if type(x) is str else x).astype('float')\r\n",
        "auto_df['Largura'] = auto_df['Largura'].apply(lambda x: x.replace(',', '.') if type(x) is str else x).astype('float')\r\n",
        "auto_df['Altura'] = auto_df['Altura'].apply(lambda x: x.replace(',', '.') if type(x) is str else x).astype('float')\r\n",
        "auto_df['Tamanho do motor'] = auto_df['Tamanho do motor'].apply(lambda x: x.replace(',', '.') if type(x) is str else x).astype('float')\r\n",
        "auto_df['Potência (HP)'] = auto_df['Potência (HP)'].apply(lambda x: x.replace(',', '.') if type(x) is str else x).astype('float')\r\n",
        "auto_df['Pico RPM'] = auto_df['Pico RPM'].apply(lambda x: x.replace(',', '.') if type(x) is str else x).astype('float')\r\n",
        "auto_df['Preço'] = auto_df['Preço'].apply(lambda x: x.replace(',', '.') if type(x) is str else x).astype('float')\r\n"
      ],
      "execution_count": null,
      "outputs": []
    },
    {
      "cell_type": "code",
      "metadata": {
        "colab": {
          "base_uri": "https://localhost:8080/"
        },
        "id": "Om-8cr5-PdMu",
        "outputId": "bba8f4c5-854f-4912-b354-f89d96dac64b"
      },
      "source": [
        "## Visualizando os atributos categóricos: \r\n",
        "\r\n",
        "categ = auto_df.dtypes[auto_df.dtypes == \"object\"].index\r\n",
        "print(\"\\n\", auto_df[categ].describe(), sep='\\n')"
      ],
      "execution_count": null,
      "outputs": [
        {
          "output_type": "stream",
          "text": [
            "\n",
            "\n",
            "       Fabricante Combustível Estilo Chassis     Tração Tipo de motor  \\\n",
            "count         203         200            205        205           205   \n",
            "unique         22           2              5          3             7   \n",
            "top        toyota         gas          sedan  dianteira           ohc   \n",
            "freq           32         180             96        120           148   \n",
            "\n",
            "        Número de cilindros Tipo de injeção  \n",
            "count                   205             205  \n",
            "unique                    7               8  \n",
            "top                       4            mpfi  \n",
            "freq                    159              94  \n"
          ],
          "name": "stdout"
        }
      ]
    },
    {
      "cell_type": "code",
      "metadata": {
        "id": "iH0khym-T0R2"
      },
      "source": [
        "## Convertendo colunas categóricas:\r\n",
        "\r\n",
        "auto_df['Fabricante'] = auto_df['Fabricante'].astype('category')\r\n",
        "auto_df['Combustível'] = auto_df['Combustível'].astype('category')\r\n",
        "auto_df['Portas'] = auto_df['Portas'].astype('category')\r\n",
        "auto_df['Estilo Chassis'] = auto_df['Estilo Chassis'].astype('category')\r\n",
        "auto_df['Tração'] = auto_df['Tração'].astype('category')\r\n",
        "auto_df['Tipo de motor'] = auto_df['Tipo de motor'].astype('category')\r\n",
        "auto_df['Número de cilindros'] = auto_df['Número de cilindros'].astype('category')\r\n",
        "auto_df['Tipo de injeção'] = auto_df['Tipo de injeção'].astype('category')\r\n"
      ],
      "execution_count": null,
      "outputs": []
    },
    {
      "cell_type": "code",
      "metadata": {
        "colab": {
          "base_uri": "https://localhost:8080/"
        },
        "id": "PtvuJocu6rne",
        "outputId": "0c2d3962-40df-4269-dea7-5b45c04488ee"
      },
      "source": [
        "## Verificando o resultado:\r\n",
        "\r\n",
        "print(\"\\nTipos dos dados:\\n{0}\\n\".format(auto_df.info()))"
      ],
      "execution_count": null,
      "outputs": [
        {
          "output_type": "stream",
          "text": [
            "<class 'pandas.core.frame.DataFrame'>\n",
            "RangeIndex: 205 entries, 0 to 204\n",
            "Data columns (total 15 columns):\n",
            " #   Column               Non-Null Count  Dtype   \n",
            "---  ------               --------------  -----   \n",
            " 0   Fabricante           203 non-null    category\n",
            " 1   Combustível          200 non-null    category\n",
            " 2   Portas               203 non-null    category\n",
            " 3   Estilo Chassis       205 non-null    category\n",
            " 4   Tração               205 non-null    category\n",
            " 5   Comprimento          205 non-null    float64 \n",
            " 6   Largura              205 non-null    float64 \n",
            " 7   Altura               205 non-null    float64 \n",
            " 8   Tipo de motor        205 non-null    category\n",
            " 9   Número de cilindros  205 non-null    category\n",
            " 10  Tamanho do motor     205 non-null    float64 \n",
            " 11  Tipo de injeção      205 non-null    category\n",
            " 12  Potência (HP)        205 non-null    float64 \n",
            " 13  Pico RPM             205 non-null    float64 \n",
            " 14  Preço                205 non-null    float64 \n",
            "dtypes: category(8), float64(7)\n",
            "memory usage: 15.3 KB\n",
            "\n",
            "Tipos dos dados:\n",
            "None\n",
            "\n"
          ],
          "name": "stdout"
        }
      ]
    },
    {
      "cell_type": "code",
      "metadata": {
        "colab": {
          "base_uri": "https://localhost:8080/"
        },
        "id": "1VTeN2cH5p47",
        "outputId": "658aed67-01fc-4d51-9ed3-1cd63c15a07d"
      },
      "source": [
        "## Verificando a estatística descritiva:\r\n",
        "\r\n",
        "print(\"\\n\", auto_df[categ].describe(), sep='\\n')"
      ],
      "execution_count": null,
      "outputs": [
        {
          "output_type": "stream",
          "text": [
            "\n",
            "\n",
            "       Fabricante Combustível Estilo Chassis     Tração Tipo de motor  \\\n",
            "count         203         200            205        205           205   \n",
            "unique         22           2              5          3             7   \n",
            "top        toyota         gas          sedan  dianteira           ohc   \n",
            "freq           32         180             96        120           148   \n",
            "\n",
            "        Número de cilindros Tipo de injeção  \n",
            "count                   205             205  \n",
            "unique                    7               8  \n",
            "top                       4            mpfi  \n",
            "freq                    159              94  \n"
          ],
          "name": "stdout"
        }
      ]
    },
    {
      "cell_type": "markdown",
      "metadata": {
        "id": "5jHf84rHjYyx"
      },
      "source": [
        "## TRANSFORMAÇÃO DOS DADOS"
      ]
    },
    {
      "cell_type": "code",
      "metadata": {
        "colab": {
          "base_uri": "https://localhost:8080/"
        },
        "id": "3xT5jLse8zNU",
        "outputId": "ff69e0e0-5ccd-47f2-8f31-2ee4add614be"
      },
      "source": [
        "## Identificando valores omissos:\r\n",
        "auto_df.isnull().sum()"
      ],
      "execution_count": null,
      "outputs": [
        {
          "output_type": "execute_result",
          "data": {
            "text/plain": [
              "Fabricante             2\n",
              "Combustível            5\n",
              "Portas                 2\n",
              "Estilo Chassis         0\n",
              "Tração                 0\n",
              "Comprimento            0\n",
              "Largura                0\n",
              "Altura                 0\n",
              "Tipo de motor          0\n",
              "Número de cilindros    0\n",
              "Tamanho do motor       0\n",
              "Tipo de injeção        0\n",
              "Potência (HP)          0\n",
              "Pico RPM               0\n",
              "Preço                  0\n",
              "dtype: int64"
            ]
          },
          "metadata": {
            "tags": []
          },
          "execution_count": 10
        }
      ]
    },
    {
      "cell_type": "code",
      "metadata": {
        "id": "vmVJwMFGUPib"
      },
      "source": [
        "## Somente as colunas Fabricante, Combustível e Portas possuem valores nulos. \r\n",
        "\r\n",
        "## Para o Fabricante, visto não ter sido identificado nenhuma combinação para preenchimento possível, \r\n",
        "## e o valor 0 não ser aplicado por ser categórico, estes registros serão excluídos.\r\n",
        "auto_df = auto_df[auto_df.Fabricante.notnull()]"
      ],
      "execution_count": null,
      "outputs": []
    },
    {
      "cell_type": "code",
      "metadata": {
        "colab": {
          "base_uri": "https://localhost:8080/"
        },
        "id": "sFkp3r7SUm_2",
        "outputId": "822ff894-b9ec-4eda-b298-de43922028cf"
      },
      "source": [
        "## Para o Combustível, visto que a grande maioria é gas, estes serão tambem convertidos para gas\r\n",
        "comb = np.where(auto_df[\"Combustível\"].isnull(), # condição\r\n",
        "                   'gas',                       # valor se verdadeiro\r\n",
        "                   auto_df[\"Combustível\"])          # valor se falso\r\n",
        "auto_df[\"Combustível\"] = comb\r\n",
        "\r\n",
        "print(\"\\nAnálise do novo atributo Combustível:\")\r\n",
        "print(auto_df[\"Combustível\"].describe())"
      ],
      "execution_count": null,
      "outputs": [
        {
          "output_type": "stream",
          "text": [
            "\n",
            "Análise do novo atributo Combustível:\n",
            "count     203\n",
            "unique      2\n",
            "top       gas\n",
            "freq      183\n",
            "Name: Combustível, dtype: object\n"
          ],
          "name": "stdout"
        }
      ]
    },
    {
      "cell_type": "code",
      "metadata": {
        "id": "ZpgcEN1f_hwL"
      },
      "source": [
        "## Para portas o valor deve ser estimado com base nos campos Estilo chassis, Largura, e tamanho do motor\r\n",
        "\r\n",
        "for index, row in auto_df.iterrows():\r\n",
        "    if np.isnan(row['Portas']):\r\n",
        "      estilo = row['Estilo Chassis']\r\n",
        "      largura = row['Largura']\r\n",
        "      motor = row['Tamanho do motor']\r\n",
        "      for index2, row2 in auto_df.iterrows():\r\n",
        "        if (row2['Estilo Chassis'] == estilo) and (row2['Largura'] == largura) and (row2['Tamanho do motor'] == motor) and (pd.notna(row2['Portas'])):\r\n",
        "          porta = row2['Portas']\r\n",
        "          auto_df.at[index,'Portas'] = porta"
      ],
      "execution_count": null,
      "outputs": []
    },
    {
      "cell_type": "code",
      "metadata": {
        "colab": {
          "base_uri": "https://localhost:8080/"
        },
        "id": "rZXdGo48OdW6",
        "outputId": "b40ddf69-7200-4a84-8ced-41cc5c3f09ce"
      },
      "source": [
        "## Conferindo remoção de omissos:\r\n",
        "auto_df.isnull().sum()"
      ],
      "execution_count": null,
      "outputs": [
        {
          "output_type": "execute_result",
          "data": {
            "text/plain": [
              "Fabricante             0\n",
              "Combustível            0\n",
              "Portas                 0\n",
              "Estilo Chassis         0\n",
              "Tração                 0\n",
              "Comprimento            0\n",
              "Largura                0\n",
              "Altura                 0\n",
              "Tipo de motor          0\n",
              "Número de cilindros    0\n",
              "Tamanho do motor       0\n",
              "Tipo de injeção        0\n",
              "Potência (HP)          0\n",
              "Pico RPM               0\n",
              "Preço                  0\n",
              "dtype: int64"
            ]
          },
          "metadata": {
            "tags": []
          },
          "execution_count": 14
        }
      ]
    },
    {
      "cell_type": "code",
      "metadata": {
        "colab": {
          "base_uri": "https://localhost:8080/",
          "height": 221
        },
        "id": "sN6z5qk1id1D",
        "outputId": "41e0e1c0-2a46-4ee6-8e3c-ad998ed5b82a"
      },
      "source": [
        "auto_df.head()"
      ],
      "execution_count": null,
      "outputs": [
        {
          "output_type": "execute_result",
          "data": {
            "text/html": [
              "<div>\n",
              "<style scoped>\n",
              "    .dataframe tbody tr th:only-of-type {\n",
              "        vertical-align: middle;\n",
              "    }\n",
              "\n",
              "    .dataframe tbody tr th {\n",
              "        vertical-align: top;\n",
              "    }\n",
              "\n",
              "    .dataframe thead th {\n",
              "        text-align: right;\n",
              "    }\n",
              "</style>\n",
              "<table border=\"1\" class=\"dataframe\">\n",
              "  <thead>\n",
              "    <tr style=\"text-align: right;\">\n",
              "      <th></th>\n",
              "      <th>Fabricante</th>\n",
              "      <th>Combustível</th>\n",
              "      <th>Portas</th>\n",
              "      <th>Estilo Chassis</th>\n",
              "      <th>Tração</th>\n",
              "      <th>Comprimento</th>\n",
              "      <th>Largura</th>\n",
              "      <th>Altura</th>\n",
              "      <th>Tipo de motor</th>\n",
              "      <th>Número de cilindros</th>\n",
              "      <th>Tamanho do motor</th>\n",
              "      <th>Tipo de injeção</th>\n",
              "      <th>Potência (HP)</th>\n",
              "      <th>Pico RPM</th>\n",
              "      <th>Preço</th>\n",
              "    </tr>\n",
              "  </thead>\n",
              "  <tbody>\n",
              "    <tr>\n",
              "      <th>0</th>\n",
              "      <td>alfa-romeo</td>\n",
              "      <td>gas</td>\n",
              "      <td>2.0</td>\n",
              "      <td>conversível</td>\n",
              "      <td>traseira</td>\n",
              "      <td>168.8</td>\n",
              "      <td>64.1</td>\n",
              "      <td>48.8</td>\n",
              "      <td>dohc</td>\n",
              "      <td>4</td>\n",
              "      <td>130.0</td>\n",
              "      <td>mpfi</td>\n",
              "      <td>111.0</td>\n",
              "      <td>5000.0</td>\n",
              "      <td>13495.0</td>\n",
              "    </tr>\n",
              "    <tr>\n",
              "      <th>1</th>\n",
              "      <td>alfa-romeo</td>\n",
              "      <td>gas</td>\n",
              "      <td>2.0</td>\n",
              "      <td>conversível</td>\n",
              "      <td>traseira</td>\n",
              "      <td>168.8</td>\n",
              "      <td>64.1</td>\n",
              "      <td>48.8</td>\n",
              "      <td>dohc</td>\n",
              "      <td>4</td>\n",
              "      <td>130.0</td>\n",
              "      <td>mpfi</td>\n",
              "      <td>111.0</td>\n",
              "      <td>5000.0</td>\n",
              "      <td>16500.0</td>\n",
              "    </tr>\n",
              "    <tr>\n",
              "      <th>2</th>\n",
              "      <td>alfa-romeo</td>\n",
              "      <td>gas</td>\n",
              "      <td>2.0</td>\n",
              "      <td>hatch</td>\n",
              "      <td>traseira</td>\n",
              "      <td>171.2</td>\n",
              "      <td>65.5</td>\n",
              "      <td>52.4</td>\n",
              "      <td>ohcv</td>\n",
              "      <td>6</td>\n",
              "      <td>152.0</td>\n",
              "      <td>mpfi</td>\n",
              "      <td>154.0</td>\n",
              "      <td>5000.0</td>\n",
              "      <td>16500.0</td>\n",
              "    </tr>\n",
              "    <tr>\n",
              "      <th>3</th>\n",
              "      <td>audi</td>\n",
              "      <td>gas</td>\n",
              "      <td>4.0</td>\n",
              "      <td>sedan</td>\n",
              "      <td>dianteira</td>\n",
              "      <td>176.6</td>\n",
              "      <td>66.2</td>\n",
              "      <td>54.3</td>\n",
              "      <td>ohc</td>\n",
              "      <td>4</td>\n",
              "      <td>109.0</td>\n",
              "      <td>mpfi</td>\n",
              "      <td>102.0</td>\n",
              "      <td>5500.0</td>\n",
              "      <td>13950.0</td>\n",
              "    </tr>\n",
              "    <tr>\n",
              "      <th>4</th>\n",
              "      <td>audi</td>\n",
              "      <td>gas</td>\n",
              "      <td>4.0</td>\n",
              "      <td>sedan</td>\n",
              "      <td>4x4</td>\n",
              "      <td>176.6</td>\n",
              "      <td>66.4</td>\n",
              "      <td>54.3</td>\n",
              "      <td>ohc</td>\n",
              "      <td>5</td>\n",
              "      <td>136.0</td>\n",
              "      <td>mpfi</td>\n",
              "      <td>115.0</td>\n",
              "      <td>5500.0</td>\n",
              "      <td>17450.0</td>\n",
              "    </tr>\n",
              "  </tbody>\n",
              "</table>\n",
              "</div>"
            ],
            "text/plain": [
              "   Fabricante Combustível Portas Estilo Chassis     Tração  Comprimento  \\\n",
              "0  alfa-romeo         gas    2.0    conversível   traseira        168.8   \n",
              "1  alfa-romeo         gas    2.0    conversível   traseira        168.8   \n",
              "2  alfa-romeo         gas    2.0          hatch   traseira        171.2   \n",
              "3        audi         gas    4.0          sedan  dianteira        176.6   \n",
              "4        audi         gas    4.0          sedan        4x4        176.6   \n",
              "\n",
              "   Largura  Altura Tipo de motor Número de cilindros  Tamanho do motor  \\\n",
              "0     64.1    48.8          dohc                   4             130.0   \n",
              "1     64.1    48.8          dohc                   4             130.0   \n",
              "2     65.5    52.4          ohcv                   6             152.0   \n",
              "3     66.2    54.3           ohc                   4             109.0   \n",
              "4     66.4    54.3           ohc                   5             136.0   \n",
              "\n",
              "  Tipo de injeção  Potência (HP)  Pico RPM    Preço  \n",
              "0            mpfi          111.0    5000.0  13495.0  \n",
              "1            mpfi          111.0    5000.0  16500.0  \n",
              "2            mpfi          154.0    5000.0  16500.0  \n",
              "3            mpfi          102.0    5500.0  13950.0  \n",
              "4            mpfi          115.0    5500.0  17450.0  "
            ]
          },
          "metadata": {
            "tags": []
          },
          "execution_count": 15
        }
      ]
    },
    {
      "cell_type": "markdown",
      "metadata": {
        "id": "BGXeNpamVII1"
      },
      "source": [
        "## DETECTANDO OUTLIERS"
      ]
    },
    {
      "cell_type": "code",
      "metadata": {
        "colab": {
          "base_uri": "https://localhost:8080/",
          "height": 690
        },
        "id": "0aZrYCjfEUUn",
        "outputId": "9bed541a-ad07-45ea-a3f8-88cbe4927a27"
      },
      "source": [
        "## Exibindo variação de preços:\r\n",
        "\r\n",
        "auto_df[\"Preço\"].plot(kind=\"box\", figsize=(9,9))\r\n",
        "index = np.where(auto_df[\"Preço\"] == max(auto_df[\"Preço\"]) )\r\n",
        "print(\"Registros com preços extremos:\",auto_df.loc[index], sep='\\n')"
      ],
      "execution_count": null,
      "outputs": [
        {
          "output_type": "stream",
          "text": [
            "Registros com preços extremos:\n",
            "       Fabricante Combustível Portas Estilo Chassis    Tração  Comprimento  \\\n",
            "72  mercedes-benz         gas    2.0        hardtop  traseira        199.2   \n",
            "\n",
            "    Largura  Altura Tipo de motor Número de cilindros  Tamanho do motor  \\\n",
            "72     72.0    55.4          ohcv                oito             304.0   \n",
            "\n",
            "   Tipo de injeção  Potência (HP)  Pico RPM    Preço  \n",
            "72            mpfi          184.0    4500.0  45400.0  \n"
          ],
          "name": "stdout"
        },
        {
          "output_type": "display_data",
          "data": {
            "image/png": "[encoded data removed]",
            "text/plain": [
              "<Figure size 648x648 with 1 Axes>"
            ]
          },
          "metadata": {
            "tags": [],
            "needs_background": "light"
          }
        }
      ]
    },
    {
      "cell_type": "code",
      "metadata": {
        "colab": {
          "base_uri": "https://localhost:8080/",
          "height": 690
        },
        "id": "SnOSKDhkVRE_",
        "outputId": "37e02e6c-4c03-42fb-ab06-eacb2edaac2f"
      },
      "source": [
        "## Exibindo variação de Comprimento:\r\n",
        "auto_df['Comprimento'].plot(kind=\"box\", figsize=(9,9))\r\n",
        "index = np.where(auto_df['Comprimento'] == min(auto_df['Comprimento']))\r\n",
        "print('Registros com valores extremos:', auto_df.loc[index], sep='\\n')"
      ],
      "execution_count": null,
      "outputs": [
        {
          "output_type": "stream",
          "text": [
            "Registros com valores extremos:\n",
            "   Fabricante Combustível Portas Estilo Chassis     Tração  Comprimento  \\\n",
            "17  chevrolet         gas    2.0          hatch  dianteira        141.1   \n",
            "\n",
            "    Largura  Altura Tipo de motor Número de cilindros  Tamanho do motor  \\\n",
            "17     60.3    53.2             l                   3              61.0   \n",
            "\n",
            "   Tipo de injeção  Potência (HP)  Pico RPM   Preço  \n",
            "17            2bbl           48.0    5100.0  5151.0  \n"
          ],
          "name": "stdout"
        },
        {
          "output_type": "display_data",
          "data": {
            "image/png": "[encoded data removed]",
            "text/plain": [
              "<Figure size 648x648 with 1 Axes>"
            ]
          },
          "metadata": {
            "tags": [],
            "needs_background": "light"
          }
        }
      ]
    },
    {
      "cell_type": "code",
      "metadata": {
        "colab": {
          "base_uri": "https://localhost:8080/",
          "height": 690
        },
        "id": "bwj25pBngtpX",
        "outputId": "c3b1ede1-d817-4581-b451-a93423de9f0d"
      },
      "source": [
        "## Exibindo variação de Largura:\r\n",
        "auto_df['Largura'].plot(kind=\"box\", figsize=(9,9))\r\n",
        "index = np.where(auto_df['Largura'] == min(auto_df['Largura']))\r\n",
        "print('Registros com valores extremos:', auto_df.loc[index], sep='\\n')"
      ],
      "execution_count": null,
      "outputs": [
        {
          "output_type": "stream",
          "text": [
            "Registros com valores extremos:\n",
            "   Fabricante Combustível Portas Estilo Chassis     Tração  Comprimento  \\\n",
            "17  chevrolet         gas    2.0          hatch  dianteira        141.1   \n",
            "\n",
            "    Largura  Altura Tipo de motor Número de cilindros  Tamanho do motor  \\\n",
            "17     60.3    53.2             l                   3              61.0   \n",
            "\n",
            "   Tipo de injeção  Potência (HP)  Pico RPM   Preço  \n",
            "17            2bbl           48.0    5100.0  5151.0  \n"
          ],
          "name": "stdout"
        },
        {
          "output_type": "display_data",
          "data": {
            "image/png": "[encoded data removed]",
            "text/plain": [
              "<Figure size 648x648 with 1 Axes>"
            ]
          },
          "metadata": {
            "tags": [],
            "needs_background": "light"
          }
        }
      ]
    },
    {
      "cell_type": "code",
      "metadata": {
        "colab": {
          "base_uri": "https://localhost:8080/",
          "height": 690
        },
        "id": "yzlrkukEgte0",
        "outputId": "a4781f84-6188-4214-fc81-60c9cf0a485a"
      },
      "source": [
        "## Exibindo variação de Altura:\r\n",
        "auto_df['Altura'].plot(kind=\"box\", figsize=(9,9))\r\n",
        "index = np.where(auto_df['Altura'] == min(auto_df['Altura']))\r\n",
        "print('Registros com valores extremos:', auto_df.loc[index], sep='\\n')"
      ],
      "execution_count": null,
      "outputs": [
        {
          "output_type": "stream",
          "text": [
            "Registros com valores extremos:\n",
            "   Fabricante Combustível Portas Estilo Chassis    Tração  Comprimento  \\\n",
            "48     jaguar         gas    2.0          sedan  traseira        191.7   \n",
            "\n",
            "    Largura  Altura Tipo de motor Número de cilindros  Tamanho do motor  \\\n",
            "48     70.6    47.8          ohcv                doze             326.0   \n",
            "\n",
            "   Tipo de injeção  Potência (HP)  Pico RPM    Preço  \n",
            "48            mpfi          262.0    5000.0  36000.0  \n"
          ],
          "name": "stdout"
        },
        {
          "output_type": "display_data",
          "data": {
            "image/png": "[encoded data removed]",
            "text/plain": [
              "<Figure size 648x648 with 1 Axes>"
            ]
          },
          "metadata": {
            "tags": [],
            "needs_background": "light"
          }
        }
      ]
    },
    {
      "cell_type": "code",
      "metadata": {
        "id": "S1EQtn6xnEUS"
      },
      "source": [
        ""
      ],
      "execution_count": null,
      "outputs": []
    }
  ]
}